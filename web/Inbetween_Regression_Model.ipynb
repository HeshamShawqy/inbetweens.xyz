{
  "nbformat": 4,
  "nbformat_minor": 0,
  "metadata": {
    "colab": {
      "name": "Studio_Regression_Distance_ML",
      "provenance": [],
      "collapsed_sections": [],
      "toc_visible": true
    },
    "kernelspec": {
      "name": "python3",
      "display_name": "Python 3"
    },
    "language_info": {
      "name": "python"
    },
    "accelerator": "GPU"
  },
  "cells": [
    {
      "cell_type": "markdown",
      "metadata": {
        "id": "ydevdvW4BKHF"
      },
      "source": [
        "#Distance Regression\n"
      ]
    },
    {
      "cell_type": "code",
      "metadata": {
        "colab": {
          "base_uri": "https://localhost:8080/"
        },
        "id": "CWoIhWGLEjAj",
        "outputId": "92442c50-54a1-413f-eef9-3cbae981221d"
      },
      "source": [
        "# Import standard Libraries\n",
        "import pandas as pd\n",
        "import seaborn as sns\n",
        "import altair as alt\n",
        "import tensorflow as tf\n",
        "from tensorflow import keras\n",
        "\n",
        "\n",
        "\n",
        "sns.set(rc={'figure.figsize':(10,10)})\n",
        "print(\"imports ok\")"
      ],
      "execution_count": null,
      "outputs": [
        {
          "output_type": "stream",
          "text": [
            "imports ok\n"
          ],
          "name": "stdout"
        }
      ]
    },
    {
      "cell_type": "markdown",
      "metadata": {
        "id": "n74tPoRCCyJK"
      },
      "source": [
        "##Load Data"
      ]
    },
    {
      "cell_type": "code",
      "metadata": {
        "id": "UDsLccXgE69X",
        "colab": {
          "base_uri": "https://localhost:8080/"
        },
        "outputId": "e6e20489-2c33-4269-ad40-a310dd3c47ff"
      },
      "source": [
        "#connect google drive to this colab\n",
        "from google.colab import drive\n",
        "drive.mount('/content/gdrive')"
      ],
      "execution_count": null,
      "outputs": [
        {
          "output_type": "stream",
          "text": [
            "Drive already mounted at /content/gdrive; to attempt to forcibly remount, call drive.mount(\"/content/gdrive\", force_remount=True).\n"
          ],
          "name": "stdout"
        }
      ]
    },
    {
      "cell_type": "code",
      "metadata": {
        "colab": {
          "base_uri": "https://localhost:8080/"
        },
        "id": "a13oEGYhFaOk",
        "outputId": "63220425-9596-4131-a24b-d9f0a3c0c5fb"
      },
      "source": [
        "# Load data file\n",
        "data = pd.read_csv('/content/gdrive/MyDrive/Group_03_3rd Module/Studio/Colab Notebooks/ML_train.csv')\n",
        "print(data)"
      ],
      "execution_count": null,
      "outputs": [
        {
          "output_type": "stream",
          "text": [
            "       NODES X CO  NODES Y CO  EMPTY SPACE ID   DISTANCE\n",
            "0       36.790779   -1.316243               7  15.802902\n",
            "1       36.790542   -1.314240             135  28.235236\n",
            "2       36.790345   -1.315294              50   2.171157\n",
            "3       36.791030   -1.315581              83  10.571200\n",
            "4       36.790145   -1.314685              76  17.714244\n",
            "...           ...         ...             ...        ...\n",
            "28382   36.797496   -1.318706             426  21.956631\n",
            "28383   36.799541   -1.317952             669  22.000700\n",
            "28384   36.799267   -1.318336             608  21.899325\n",
            "28385   36.799231   -1.318126             608  18.998210\n",
            "28386   36.798544   -1.318894             493  19.058002\n",
            "\n",
            "[28387 rows x 4 columns]\n"
          ],
          "name": "stdout"
        }
      ]
    },
    {
      "cell_type": "code",
      "metadata": {
        "colab": {
          "base_uri": "https://localhost:8080/",
          "height": 520
        },
        "id": "gIORi589_3Ae",
        "outputId": "1242048b-3319-4932-abcf-99176a2aab79"
      },
      "source": [
        "data.columns = ['x', 'y', 'id', \"dis\"]\n",
        "data.head(15)"
      ],
      "execution_count": null,
      "outputs": [
        {
          "output_type": "execute_result",
          "data": {
            "text/html": [
              "<div>\n",
              "<style scoped>\n",
              "    .dataframe tbody tr th:only-of-type {\n",
              "        vertical-align: middle;\n",
              "    }\n",
              "\n",
              "    .dataframe tbody tr th {\n",
              "        vertical-align: top;\n",
              "    }\n",
              "\n",
              "    .dataframe thead th {\n",
              "        text-align: right;\n",
              "    }\n",
              "</style>\n",
              "<table border=\"1\" class=\"dataframe\">\n",
              "  <thead>\n",
              "    <tr style=\"text-align: right;\">\n",
              "      <th></th>\n",
              "      <th>x</th>\n",
              "      <th>y</th>\n",
              "      <th>id</th>\n",
              "      <th>dis</th>\n",
              "    </tr>\n",
              "  </thead>\n",
              "  <tbody>\n",
              "    <tr>\n",
              "      <th>0</th>\n",
              "      <td>36.790779</td>\n",
              "      <td>-1.316243</td>\n",
              "      <td>7</td>\n",
              "      <td>15.802902</td>\n",
              "    </tr>\n",
              "    <tr>\n",
              "      <th>1</th>\n",
              "      <td>36.790542</td>\n",
              "      <td>-1.314240</td>\n",
              "      <td>135</td>\n",
              "      <td>28.235236</td>\n",
              "    </tr>\n",
              "    <tr>\n",
              "      <th>2</th>\n",
              "      <td>36.790345</td>\n",
              "      <td>-1.315294</td>\n",
              "      <td>50</td>\n",
              "      <td>2.171157</td>\n",
              "    </tr>\n",
              "    <tr>\n",
              "      <th>3</th>\n",
              "      <td>36.791030</td>\n",
              "      <td>-1.315581</td>\n",
              "      <td>83</td>\n",
              "      <td>10.571200</td>\n",
              "    </tr>\n",
              "    <tr>\n",
              "      <th>4</th>\n",
              "      <td>36.790145</td>\n",
              "      <td>-1.314685</td>\n",
              "      <td>76</td>\n",
              "      <td>17.714244</td>\n",
              "    </tr>\n",
              "    <tr>\n",
              "      <th>5</th>\n",
              "      <td>36.791270</td>\n",
              "      <td>-1.316084</td>\n",
              "      <td>75</td>\n",
              "      <td>12.131325</td>\n",
              "    </tr>\n",
              "    <tr>\n",
              "      <th>6</th>\n",
              "      <td>36.790638</td>\n",
              "      <td>-1.314673</td>\n",
              "      <td>153</td>\n",
              "      <td>13.037382</td>\n",
              "    </tr>\n",
              "    <tr>\n",
              "      <th>7</th>\n",
              "      <td>36.790436</td>\n",
              "      <td>-1.315748</td>\n",
              "      <td>38</td>\n",
              "      <td>14.517786</td>\n",
              "    </tr>\n",
              "    <tr>\n",
              "      <th>8</th>\n",
              "      <td>36.790761</td>\n",
              "      <td>-1.315133</td>\n",
              "      <td>92</td>\n",
              "      <td>17.625736</td>\n",
              "    </tr>\n",
              "    <tr>\n",
              "      <th>9</th>\n",
              "      <td>36.790490</td>\n",
              "      <td>-1.316029</td>\n",
              "      <td>1</td>\n",
              "      <td>20.307557</td>\n",
              "    </tr>\n",
              "    <tr>\n",
              "      <th>10</th>\n",
              "      <td>36.790732</td>\n",
              "      <td>-1.315705</td>\n",
              "      <td>64</td>\n",
              "      <td>12.550376</td>\n",
              "    </tr>\n",
              "    <tr>\n",
              "      <th>11</th>\n",
              "      <td>36.791375</td>\n",
              "      <td>-1.315795</td>\n",
              "      <td>97</td>\n",
              "      <td>8.498456</td>\n",
              "    </tr>\n",
              "    <tr>\n",
              "      <th>12</th>\n",
              "      <td>36.790231</td>\n",
              "      <td>-1.314967</td>\n",
              "      <td>65</td>\n",
              "      <td>7.997570</td>\n",
              "    </tr>\n",
              "    <tr>\n",
              "      <th>13</th>\n",
              "      <td>36.790382</td>\n",
              "      <td>-1.314514</td>\n",
              "      <td>135</td>\n",
              "      <td>7.669164</td>\n",
              "    </tr>\n",
              "    <tr>\n",
              "      <th>14</th>\n",
              "      <td>36.790973</td>\n",
              "      <td>-1.315978</td>\n",
              "      <td>45</td>\n",
              "      <td>15.379648</td>\n",
              "    </tr>\n",
              "  </tbody>\n",
              "</table>\n",
              "</div>"
            ],
            "text/plain": [
              "            x         y   id        dis\n",
              "0   36.790779 -1.316243    7  15.802902\n",
              "1   36.790542 -1.314240  135  28.235236\n",
              "2   36.790345 -1.315294   50   2.171157\n",
              "3   36.791030 -1.315581   83  10.571200\n",
              "4   36.790145 -1.314685   76  17.714244\n",
              "5   36.791270 -1.316084   75  12.131325\n",
              "6   36.790638 -1.314673  153  13.037382\n",
              "7   36.790436 -1.315748   38  14.517786\n",
              "8   36.790761 -1.315133   92  17.625736\n",
              "9   36.790490 -1.316029    1  20.307557\n",
              "10  36.790732 -1.315705   64  12.550376\n",
              "11  36.791375 -1.315795   97   8.498456\n",
              "12  36.790231 -1.314967   65   7.997570\n",
              "13  36.790382 -1.314514  135   7.669164\n",
              "14  36.790973 -1.315978   45  15.379648"
            ]
          },
          "metadata": {
            "tags": []
          },
          "execution_count": 19
        }
      ]
    },
    {
      "cell_type": "markdown",
      "metadata": {
        "id": "L5HIRyjKRtjl"
      },
      "source": [
        "**DISTANCE REGRESSION**"
      ]
    },
    {
      "cell_type": "code",
      "metadata": {
        "id": "gzNi3M_ku3bm",
        "colab": {
          "base_uri": "https://localhost:8080/"
        },
        "outputId": "b485f137-1258-4946-a467-aa72a4cb7b90"
      },
      "source": [
        "#same code as last time\n",
        "\n",
        "#declare features\n",
        "X = data[[\"x\", \"y\", \"id\"]]\n",
        "\n",
        "# Load and instantiate a StandardSclaer \n",
        "from sklearn.preprocessing import StandardScaler\n",
        "scalerX = StandardScaler()\n",
        "\n",
        "# Apply the scaler to our X-features\n",
        "X_scaled = scalerX.fit_transform(X)\n",
        "\n",
        "#save the scaler for later use\n",
        "from sklearn.externals import joblib\n",
        "scaler_filename = \"scalerX_regression.save\"\n",
        "joblib.dump(scalerX, scaler_filename) \n",
        "#print(X_scaled.shape)\n",
        "\n",
        "\n",
        "#declare regression target\n",
        "y = data.loc[:,\"dis\"].to_numpy()\n",
        "\n",
        "\n",
        "y = y.reshape(-1, 1)\n",
        "print(y.shape)\n",
        "from sklearn.preprocessing import MinMaxScaler\n",
        "scalerY = MinMaxScaler()\n",
        "\n",
        "\n",
        "#In this case it makes sense to use MinMax scaling because the wage seems like a relative range\n",
        "# Apply the scaler to our Y-features\n",
        "y_scaled = scalerY.fit_transform(y)\n",
        "scaler_filename = \"scalerY_regression.save\"\n",
        "joblib.dump(scalerY, scaler_filename) \n",
        "#print(X_scaled.shape)\n",
        "\n",
        "print(y_scaled.shape)"
      ],
      "execution_count": null,
      "outputs": [
        {
          "output_type": "stream",
          "text": [
            "(28387, 1)\n",
            "(28387, 1)\n"
          ],
          "name": "stdout"
        }
      ]
    },
    {
      "cell_type": "code",
      "metadata": {
        "id": "he7HZZtEvMBJ"
      },
      "source": [
        "from sklearn.model_selection import train_test_split\n",
        "X_train, X_test, y_train, y_test = train_test_split(X_scaled, y_scaled, test_size = 0.2, random_state = 21)"
      ],
      "execution_count": null,
      "outputs": []
    },
    {
      "cell_type": "code",
      "metadata": {
        "id": "kLbe18fdvMkd",
        "colab": {
          "base_uri": "https://localhost:8080/"
        },
        "outputId": "80e0c95e-3b07-4b51-899d-b2a34e3be0bc"
      },
      "source": [
        "#visualize our data\n",
        "#we can see that scikitlearn doesnt care if it is a dataframe or a numpy array, because they all function on the same way \n",
        "print(\"TRAIN\", \"input\", X_train.shape, \"output\", y_train.shape)\n",
        "print(\"TEST\", \"input\", X_test.shape, \"output\", y_test.shape)"
      ],
      "execution_count": null,
      "outputs": [
        {
          "output_type": "stream",
          "text": [
            "TRAIN input (22709, 3) output (22709, 1)\n",
            "TEST input (5678, 3) output (5678, 1)\n"
          ],
          "name": "stdout"
        }
      ]
    },
    {
      "cell_type": "code",
      "metadata": {
        "id": "OiUJf638vOsE"
      },
      "source": [
        "# Instantiate a sequential model\n",
        "model = tf.keras.models.Sequential()\n",
        "n_cols = X_scaled.shape[1]  \n",
        "\n",
        "# Add 2 dense layers of 50 and 32 neurons each\n",
        "model.add(tf.keras.layers.Dense(512, input_shape=(n_cols,), activation='relu'))\n",
        "model.add(tf.keras.layers.Dense(256, activation='relu'))\n",
        "  \n",
        "# Add a dense layer with 1 value output\n",
        "model.add(tf.keras.layers.Dense(1, activation= \"sigmoid\"))\n",
        "  \n",
        "# Compile your model \n",
        "model.compile(optimizer = \"adam\", loss = \"mean_squared_error\")"
      ],
      "execution_count": null,
      "outputs": []
    },
    {
      "cell_type": "code",
      "metadata": {
        "id": "N4XWyUo5vTdM",
        "colab": {
          "base_uri": "https://localhost:8080/"
        },
        "outputId": "6adbf454-8367-423d-d126-7f1f8ad46ab3"
      },
      "source": [
        "# Fit your model to the training data for 200 epochs\n",
        "#we assign this to history variable so we can plot the training data\n",
        "history = model.fit(X_train,y_train,epochs=200, validation_split=0.2)"
      ],
      "execution_count": null,
      "outputs": [
        {
          "output_type": "stream",
          "text": [
            "Epoch 1/200\n",
            "568/568 [==============================] - 4s 2ms/step - loss: 0.0185 - val_loss: 0.0172\n",
            "Epoch 2/200\n",
            "568/568 [==============================] - 1s 2ms/step - loss: 0.0166 - val_loss: 0.0166\n",
            "Epoch 3/200\n",
            "568/568 [==============================] - 1s 3ms/step - loss: 0.0157 - val_loss: 0.0152\n",
            "Epoch 4/200\n",
            "568/568 [==============================] - 1s 2ms/step - loss: 0.0141 - val_loss: 0.0135\n",
            "Epoch 5/200\n",
            "568/568 [==============================] - 1s 3ms/step - loss: 0.0129 - val_loss: 0.0128\n",
            "Epoch 6/200\n",
            "568/568 [==============================] - 1s 2ms/step - loss: 0.0123 - val_loss: 0.0125\n",
            "Epoch 7/200\n",
            "568/568 [==============================] - 1s 2ms/step - loss: 0.0117 - val_loss: 0.0121\n",
            "Epoch 8/200\n",
            "568/568 [==============================] - 1s 2ms/step - loss: 0.0114 - val_loss: 0.0112\n",
            "Epoch 9/200\n",
            "568/568 [==============================] - 1s 2ms/step - loss: 0.0112 - val_loss: 0.0108\n",
            "Epoch 10/200\n",
            "568/568 [==============================] - 1s 2ms/step - loss: 0.0109 - val_loss: 0.0107\n",
            "Epoch 11/200\n",
            "568/568 [==============================] - 1s 2ms/step - loss: 0.0106 - val_loss: 0.0102\n",
            "Epoch 12/200\n",
            "568/568 [==============================] - 1s 2ms/step - loss: 0.0106 - val_loss: 0.0108\n",
            "Epoch 13/200\n",
            "568/568 [==============================] - 1s 2ms/step - loss: 0.0104 - val_loss: 0.0108\n",
            "Epoch 14/200\n",
            "568/568 [==============================] - 1s 2ms/step - loss: 0.0103 - val_loss: 0.0102\n",
            "Epoch 15/200\n",
            "568/568 [==============================] - 1s 2ms/step - loss: 0.0101 - val_loss: 0.0107\n",
            "Epoch 16/200\n",
            "568/568 [==============================] - 1s 2ms/step - loss: 0.0099 - val_loss: 0.0109\n",
            "Epoch 17/200\n",
            "568/568 [==============================] - 1s 2ms/step - loss: 0.0100 - val_loss: 0.0102\n",
            "Epoch 18/200\n",
            "568/568 [==============================] - 1s 2ms/step - loss: 0.0097 - val_loss: 0.0100\n",
            "Epoch 19/200\n",
            "568/568 [==============================] - 1s 2ms/step - loss: 0.0097 - val_loss: 0.0096\n",
            "Epoch 20/200\n",
            "568/568 [==============================] - 1s 2ms/step - loss: 0.0095 - val_loss: 0.0097\n",
            "Epoch 21/200\n",
            "568/568 [==============================] - 1s 2ms/step - loss: 0.0093 - val_loss: 0.0092\n",
            "Epoch 22/200\n",
            "568/568 [==============================] - 1s 2ms/step - loss: 0.0093 - val_loss: 0.0092\n",
            "Epoch 23/200\n",
            "568/568 [==============================] - 1s 2ms/step - loss: 0.0092 - val_loss: 0.0089\n",
            "Epoch 24/200\n",
            "568/568 [==============================] - 1s 2ms/step - loss: 0.0091 - val_loss: 0.0091\n",
            "Epoch 25/200\n",
            "568/568 [==============================] - 1s 2ms/step - loss: 0.0090 - val_loss: 0.0087\n",
            "Epoch 26/200\n",
            "568/568 [==============================] - 1s 2ms/step - loss: 0.0089 - val_loss: 0.0097\n",
            "Epoch 27/200\n",
            "568/568 [==============================] - 1s 2ms/step - loss: 0.0090 - val_loss: 0.0103\n",
            "Epoch 28/200\n",
            "568/568 [==============================] - 1s 2ms/step - loss: 0.0088 - val_loss: 0.0088\n",
            "Epoch 29/200\n",
            "568/568 [==============================] - 1s 2ms/step - loss: 0.0088 - val_loss: 0.0097\n",
            "Epoch 30/200\n",
            "568/568 [==============================] - 1s 2ms/step - loss: 0.0087 - val_loss: 0.0088\n",
            "Epoch 31/200\n",
            "568/568 [==============================] - 1s 2ms/step - loss: 0.0087 - val_loss: 0.0084\n",
            "Epoch 32/200\n",
            "568/568 [==============================] - 1s 2ms/step - loss: 0.0085 - val_loss: 0.0082\n",
            "Epoch 33/200\n",
            "568/568 [==============================] - 1s 2ms/step - loss: 0.0085 - val_loss: 0.0085\n",
            "Epoch 34/200\n",
            "568/568 [==============================] - 1s 2ms/step - loss: 0.0084 - val_loss: 0.0086\n",
            "Epoch 35/200\n",
            "568/568 [==============================] - 1s 2ms/step - loss: 0.0083 - val_loss: 0.0082\n",
            "Epoch 36/200\n",
            "568/568 [==============================] - 1s 2ms/step - loss: 0.0083 - val_loss: 0.0081\n",
            "Epoch 37/200\n",
            "568/568 [==============================] - 1s 2ms/step - loss: 0.0083 - val_loss: 0.0082\n",
            "Epoch 38/200\n",
            "568/568 [==============================] - 1s 2ms/step - loss: 0.0082 - val_loss: 0.0084\n",
            "Epoch 39/200\n",
            "568/568 [==============================] - 1s 2ms/step - loss: 0.0083 - val_loss: 0.0082\n",
            "Epoch 40/200\n",
            "568/568 [==============================] - 1s 2ms/step - loss: 0.0081 - val_loss: 0.0082\n",
            "Epoch 41/200\n",
            "568/568 [==============================] - 1s 2ms/step - loss: 0.0081 - val_loss: 0.0080\n",
            "Epoch 42/200\n",
            "568/568 [==============================] - 1s 2ms/step - loss: 0.0081 - val_loss: 0.0085\n",
            "Epoch 43/200\n",
            "568/568 [==============================] - 1s 2ms/step - loss: 0.0080 - val_loss: 0.0081\n",
            "Epoch 44/200\n",
            "568/568 [==============================] - 1s 2ms/step - loss: 0.0079 - val_loss: 0.0077\n",
            "Epoch 45/200\n",
            "568/568 [==============================] - 1s 3ms/step - loss: 0.0078 - val_loss: 0.0076\n",
            "Epoch 46/200\n",
            "568/568 [==============================] - 1s 2ms/step - loss: 0.0078 - val_loss: 0.0086\n",
            "Epoch 47/200\n",
            "568/568 [==============================] - 1s 2ms/step - loss: 0.0079 - val_loss: 0.0083\n",
            "Epoch 48/200\n",
            "568/568 [==============================] - 1s 2ms/step - loss: 0.0077 - val_loss: 0.0081\n",
            "Epoch 49/200\n",
            "568/568 [==============================] - 1s 2ms/step - loss: 0.0077 - val_loss: 0.0076\n",
            "Epoch 50/200\n",
            "568/568 [==============================] - 1s 2ms/step - loss: 0.0077 - val_loss: 0.0080\n",
            "Epoch 51/200\n",
            "568/568 [==============================] - 1s 3ms/step - loss: 0.0076 - val_loss: 0.0080\n",
            "Epoch 52/200\n",
            "568/568 [==============================] - 1s 2ms/step - loss: 0.0077 - val_loss: 0.0090\n",
            "Epoch 53/200\n",
            "568/568 [==============================] - 1s 2ms/step - loss: 0.0076 - val_loss: 0.0076\n",
            "Epoch 54/200\n",
            "568/568 [==============================] - 1s 2ms/step - loss: 0.0075 - val_loss: 0.0087\n",
            "Epoch 55/200\n",
            "568/568 [==============================] - 1s 2ms/step - loss: 0.0075 - val_loss: 0.0078\n",
            "Epoch 56/200\n",
            "568/568 [==============================] - 1s 2ms/step - loss: 0.0075 - val_loss: 0.0076\n",
            "Epoch 57/200\n",
            "568/568 [==============================] - 1s 2ms/step - loss: 0.0073 - val_loss: 0.0074\n",
            "Epoch 58/200\n",
            "568/568 [==============================] - 1s 2ms/step - loss: 0.0074 - val_loss: 0.0077\n",
            "Epoch 59/200\n",
            "568/568 [==============================] - 1s 2ms/step - loss: 0.0074 - val_loss: 0.0076\n",
            "Epoch 60/200\n",
            "568/568 [==============================] - 1s 2ms/step - loss: 0.0073 - val_loss: 0.0073\n",
            "Epoch 61/200\n",
            "568/568 [==============================] - 1s 2ms/step - loss: 0.0073 - val_loss: 0.0075\n",
            "Epoch 62/200\n",
            "568/568 [==============================] - 1s 2ms/step - loss: 0.0072 - val_loss: 0.0084\n",
            "Epoch 63/200\n",
            "568/568 [==============================] - 1s 2ms/step - loss: 0.0072 - val_loss: 0.0074\n",
            "Epoch 64/200\n",
            "568/568 [==============================] - 1s 2ms/step - loss: 0.0072 - val_loss: 0.0073\n",
            "Epoch 65/200\n",
            "568/568 [==============================] - 1s 2ms/step - loss: 0.0071 - val_loss: 0.0072\n",
            "Epoch 66/200\n",
            "568/568 [==============================] - 1s 3ms/step - loss: 0.0071 - val_loss: 0.0072\n",
            "Epoch 67/200\n",
            "568/568 [==============================] - 1s 2ms/step - loss: 0.0071 - val_loss: 0.0071\n",
            "Epoch 68/200\n",
            "568/568 [==============================] - 1s 2ms/step - loss: 0.0070 - val_loss: 0.0075\n",
            "Epoch 69/200\n",
            "568/568 [==============================] - 1s 2ms/step - loss: 0.0070 - val_loss: 0.0076\n",
            "Epoch 70/200\n",
            "568/568 [==============================] - 1s 2ms/step - loss: 0.0070 - val_loss: 0.0069\n",
            "Epoch 71/200\n",
            "568/568 [==============================] - 1s 2ms/step - loss: 0.0070 - val_loss: 0.0070\n",
            "Epoch 72/200\n",
            "568/568 [==============================] - 1s 2ms/step - loss: 0.0069 - val_loss: 0.0070\n",
            "Epoch 73/200\n",
            "568/568 [==============================] - 1s 3ms/step - loss: 0.0068 - val_loss: 0.0076\n",
            "Epoch 74/200\n",
            "568/568 [==============================] - 1s 2ms/step - loss: 0.0068 - val_loss: 0.0077\n",
            "Epoch 75/200\n",
            "568/568 [==============================] - 1s 2ms/step - loss: 0.0068 - val_loss: 0.0078\n",
            "Epoch 76/200\n",
            "568/568 [==============================] - 1s 2ms/step - loss: 0.0069 - val_loss: 0.0071\n",
            "Epoch 77/200\n",
            "568/568 [==============================] - 1s 2ms/step - loss: 0.0069 - val_loss: 0.0075\n",
            "Epoch 78/200\n",
            "568/568 [==============================] - 1s 2ms/step - loss: 0.0067 - val_loss: 0.0069\n",
            "Epoch 79/200\n",
            "568/568 [==============================] - 1s 2ms/step - loss: 0.0068 - val_loss: 0.0068\n",
            "Epoch 80/200\n",
            "568/568 [==============================] - 1s 2ms/step - loss: 0.0067 - val_loss: 0.0073\n",
            "Epoch 81/200\n",
            "568/568 [==============================] - 1s 3ms/step - loss: 0.0066 - val_loss: 0.0071\n",
            "Epoch 82/200\n",
            "568/568 [==============================] - 1s 2ms/step - loss: 0.0066 - val_loss: 0.0078\n",
            "Epoch 83/200\n",
            "568/568 [==============================] - 1s 2ms/step - loss: 0.0066 - val_loss: 0.0066\n",
            "Epoch 84/200\n",
            "568/568 [==============================] - 1s 2ms/step - loss: 0.0065 - val_loss: 0.0071\n",
            "Epoch 85/200\n",
            "568/568 [==============================] - 1s 2ms/step - loss: 0.0066 - val_loss: 0.0065\n",
            "Epoch 86/200\n",
            "568/568 [==============================] - 1s 2ms/step - loss: 0.0065 - val_loss: 0.0069\n",
            "Epoch 87/200\n",
            "568/568 [==============================] - 1s 2ms/step - loss: 0.0064 - val_loss: 0.0069\n",
            "Epoch 88/200\n",
            "568/568 [==============================] - 1s 2ms/step - loss: 0.0065 - val_loss: 0.0070\n",
            "Epoch 89/200\n",
            "568/568 [==============================] - 1s 2ms/step - loss: 0.0065 - val_loss: 0.0068\n",
            "Epoch 90/200\n",
            "568/568 [==============================] - 1s 2ms/step - loss: 0.0064 - val_loss: 0.0069\n",
            "Epoch 91/200\n",
            "568/568 [==============================] - 1s 2ms/step - loss: 0.0065 - val_loss: 0.0067\n",
            "Epoch 92/200\n",
            "568/568 [==============================] - 1s 2ms/step - loss: 0.0064 - val_loss: 0.0065\n",
            "Epoch 93/200\n",
            "568/568 [==============================] - 1s 2ms/step - loss: 0.0063 - val_loss: 0.0065\n",
            "Epoch 94/200\n",
            "568/568 [==============================] - 1s 2ms/step - loss: 0.0063 - val_loss: 0.0062\n",
            "Epoch 95/200\n",
            "568/568 [==============================] - 1s 2ms/step - loss: 0.0063 - val_loss: 0.0065\n",
            "Epoch 96/200\n",
            "568/568 [==============================] - 1s 2ms/step - loss: 0.0063 - val_loss: 0.0074\n",
            "Epoch 97/200\n",
            "568/568 [==============================] - 1s 3ms/step - loss: 0.0063 - val_loss: 0.0064\n",
            "Epoch 98/200\n",
            "568/568 [==============================] - 1s 2ms/step - loss: 0.0062 - val_loss: 0.0063\n",
            "Epoch 99/200\n",
            "568/568 [==============================] - 1s 3ms/step - loss: 0.0062 - val_loss: 0.0065\n",
            "Epoch 100/200\n",
            "568/568 [==============================] - 1s 2ms/step - loss: 0.0062 - val_loss: 0.0061\n",
            "Epoch 101/200\n",
            "568/568 [==============================] - 1s 2ms/step - loss: 0.0061 - val_loss: 0.0066\n",
            "Epoch 102/200\n",
            "568/568 [==============================] - 1s 2ms/step - loss: 0.0061 - val_loss: 0.0063\n",
            "Epoch 103/200\n",
            "568/568 [==============================] - 1s 3ms/step - loss: 0.0062 - val_loss: 0.0069\n",
            "Epoch 104/200\n",
            "568/568 [==============================] - 1s 2ms/step - loss: 0.0062 - val_loss: 0.0068\n",
            "Epoch 105/200\n",
            "568/568 [==============================] - 1s 3ms/step - loss: 0.0060 - val_loss: 0.0064\n",
            "Epoch 106/200\n",
            "568/568 [==============================] - 1s 2ms/step - loss: 0.0060 - val_loss: 0.0061\n",
            "Epoch 107/200\n",
            "568/568 [==============================] - 1s 2ms/step - loss: 0.0061 - val_loss: 0.0061\n",
            "Epoch 108/200\n",
            "568/568 [==============================] - 1s 2ms/step - loss: 0.0061 - val_loss: 0.0060\n",
            "Epoch 109/200\n",
            "568/568 [==============================] - 1s 3ms/step - loss: 0.0060 - val_loss: 0.0061\n",
            "Epoch 110/200\n",
            "568/568 [==============================] - 2s 3ms/step - loss: 0.0060 - val_loss: 0.0059\n",
            "Epoch 111/200\n",
            "568/568 [==============================] - 2s 3ms/step - loss: 0.0060 - val_loss: 0.0065\n",
            "Epoch 112/200\n",
            "568/568 [==============================] - 1s 3ms/step - loss: 0.0060 - val_loss: 0.0059\n",
            "Epoch 113/200\n",
            "568/568 [==============================] - 1s 3ms/step - loss: 0.0059 - val_loss: 0.0065\n",
            "Epoch 114/200\n",
            "568/568 [==============================] - 1s 3ms/step - loss: 0.0059 - val_loss: 0.0061\n",
            "Epoch 115/200\n",
            "568/568 [==============================] - 1s 2ms/step - loss: 0.0059 - val_loss: 0.0061\n",
            "Epoch 116/200\n",
            "568/568 [==============================] - 1s 2ms/step - loss: 0.0059 - val_loss: 0.0061\n",
            "Epoch 117/200\n",
            "568/568 [==============================] - 1s 2ms/step - loss: 0.0059 - val_loss: 0.0059\n",
            "Epoch 118/200\n",
            "568/568 [==============================] - 1s 2ms/step - loss: 0.0059 - val_loss: 0.0061\n",
            "Epoch 119/200\n",
            "568/568 [==============================] - 1s 2ms/step - loss: 0.0058 - val_loss: 0.0060\n",
            "Epoch 120/200\n",
            "568/568 [==============================] - 1s 2ms/step - loss: 0.0059 - val_loss: 0.0063\n",
            "Epoch 121/200\n",
            "568/568 [==============================] - 1s 2ms/step - loss: 0.0058 - val_loss: 0.0066\n",
            "Epoch 122/200\n",
            "568/568 [==============================] - 1s 2ms/step - loss: 0.0058 - val_loss: 0.0060\n",
            "Epoch 123/200\n",
            "568/568 [==============================] - 1s 2ms/step - loss: 0.0058 - val_loss: 0.0059\n",
            "Epoch 124/200\n",
            "568/568 [==============================] - 1s 2ms/step - loss: 0.0058 - val_loss: 0.0059\n",
            "Epoch 125/200\n",
            "568/568 [==============================] - 1s 2ms/step - loss: 0.0057 - val_loss: 0.0060\n",
            "Epoch 126/200\n",
            "568/568 [==============================] - 1s 3ms/step - loss: 0.0057 - val_loss: 0.0058\n",
            "Epoch 127/200\n",
            "568/568 [==============================] - 1s 3ms/step - loss: 0.0057 - val_loss: 0.0060\n",
            "Epoch 128/200\n",
            "568/568 [==============================] - 1s 2ms/step - loss: 0.0057 - val_loss: 0.0059\n",
            "Epoch 129/200\n",
            "568/568 [==============================] - 1s 2ms/step - loss: 0.0057 - val_loss: 0.0059\n",
            "Epoch 130/200\n",
            "568/568 [==============================] - 1s 2ms/step - loss: 0.0057 - val_loss: 0.0058\n",
            "Epoch 131/200\n",
            "568/568 [==============================] - 1s 2ms/step - loss: 0.0056 - val_loss: 0.0057\n",
            "Epoch 132/200\n",
            "568/568 [==============================] - 1s 2ms/step - loss: 0.0058 - val_loss: 0.0060\n",
            "Epoch 133/200\n",
            "568/568 [==============================] - 1s 2ms/step - loss: 0.0056 - val_loss: 0.0056\n",
            "Epoch 134/200\n",
            "568/568 [==============================] - 1s 2ms/step - loss: 0.0055 - val_loss: 0.0067\n",
            "Epoch 135/200\n",
            "568/568 [==============================] - 1s 2ms/step - loss: 0.0056 - val_loss: 0.0061\n",
            "Epoch 136/200\n",
            "568/568 [==============================] - 1s 3ms/step - loss: 0.0056 - val_loss: 0.0060\n",
            "Epoch 137/200\n",
            "568/568 [==============================] - 1s 2ms/step - loss: 0.0056 - val_loss: 0.0059\n",
            "Epoch 138/200\n",
            "568/568 [==============================] - 1s 2ms/step - loss: 0.0056 - val_loss: 0.0059\n",
            "Epoch 139/200\n",
            "568/568 [==============================] - 1s 2ms/step - loss: 0.0055 - val_loss: 0.0059\n",
            "Epoch 140/200\n",
            "568/568 [==============================] - 1s 2ms/step - loss: 0.0055 - val_loss: 0.0056\n",
            "Epoch 141/200\n",
            "568/568 [==============================] - 1s 2ms/step - loss: 0.0056 - val_loss: 0.0059\n",
            "Epoch 142/200\n",
            "568/568 [==============================] - 1s 2ms/step - loss: 0.0054 - val_loss: 0.0058\n",
            "Epoch 143/200\n",
            "568/568 [==============================] - 1s 2ms/step - loss: 0.0055 - val_loss: 0.0057\n",
            "Epoch 144/200\n",
            "568/568 [==============================] - 1s 2ms/step - loss: 0.0055 - val_loss: 0.0057\n",
            "Epoch 145/200\n",
            "568/568 [==============================] - 1s 2ms/step - loss: 0.0054 - val_loss: 0.0056\n",
            "Epoch 146/200\n",
            "568/568 [==============================] - 1s 2ms/step - loss: 0.0055 - val_loss: 0.0055\n",
            "Epoch 147/200\n",
            "568/568 [==============================] - 1s 2ms/step - loss: 0.0055 - val_loss: 0.0061\n",
            "Epoch 148/200\n",
            "568/568 [==============================] - 1s 2ms/step - loss: 0.0055 - val_loss: 0.0056\n",
            "Epoch 149/200\n",
            "568/568 [==============================] - 1s 2ms/step - loss: 0.0054 - val_loss: 0.0054\n",
            "Epoch 150/200\n",
            "568/568 [==============================] - 1s 2ms/step - loss: 0.0054 - val_loss: 0.0058\n",
            "Epoch 151/200\n",
            "568/568 [==============================] - 1s 2ms/step - loss: 0.0054 - val_loss: 0.0057\n",
            "Epoch 152/200\n",
            "568/568 [==============================] - 1s 3ms/step - loss: 0.0054 - val_loss: 0.0055\n",
            "Epoch 153/200\n",
            "568/568 [==============================] - 1s 2ms/step - loss: 0.0054 - val_loss: 0.0056\n",
            "Epoch 154/200\n",
            "568/568 [==============================] - 1s 2ms/step - loss: 0.0053 - val_loss: 0.0058\n",
            "Epoch 155/200\n",
            "568/568 [==============================] - 1s 3ms/step - loss: 0.0054 - val_loss: 0.0059\n",
            "Epoch 156/200\n",
            "568/568 [==============================] - 1s 2ms/step - loss: 0.0054 - val_loss: 0.0053\n",
            "Epoch 157/200\n",
            "568/568 [==============================] - 1s 2ms/step - loss: 0.0053 - val_loss: 0.0057\n",
            "Epoch 158/200\n",
            "568/568 [==============================] - 1s 2ms/step - loss: 0.0053 - val_loss: 0.0060\n",
            "Epoch 159/200\n",
            "568/568 [==============================] - 1s 2ms/step - loss: 0.0053 - val_loss: 0.0055\n",
            "Epoch 160/200\n",
            "568/568 [==============================] - 1s 2ms/step - loss: 0.0052 - val_loss: 0.0056\n",
            "Epoch 161/200\n",
            "568/568 [==============================] - 1s 2ms/step - loss: 0.0053 - val_loss: 0.0054\n",
            "Epoch 162/200\n",
            "568/568 [==============================] - 1s 2ms/step - loss: 0.0053 - val_loss: 0.0070\n",
            "Epoch 163/200\n",
            "568/568 [==============================] - 1s 2ms/step - loss: 0.0053 - val_loss: 0.0055\n",
            "Epoch 164/200\n",
            "568/568 [==============================] - 1s 2ms/step - loss: 0.0053 - val_loss: 0.0056\n",
            "Epoch 165/200\n",
            "568/568 [==============================] - 1s 2ms/step - loss: 0.0053 - val_loss: 0.0056\n",
            "Epoch 166/200\n",
            "568/568 [==============================] - 1s 2ms/step - loss: 0.0052 - val_loss: 0.0053\n",
            "Epoch 167/200\n",
            "568/568 [==============================] - 1s 2ms/step - loss: 0.0052 - val_loss: 0.0054\n",
            "Epoch 168/200\n",
            "568/568 [==============================] - 1s 2ms/step - loss: 0.0053 - val_loss: 0.0055\n",
            "Epoch 169/200\n",
            "568/568 [==============================] - 1s 3ms/step - loss: 0.0052 - val_loss: 0.0057\n",
            "Epoch 170/200\n",
            "568/568 [==============================] - 1s 2ms/step - loss: 0.0052 - val_loss: 0.0053\n",
            "Epoch 171/200\n",
            "568/568 [==============================] - 1s 2ms/step - loss: 0.0052 - val_loss: 0.0054\n",
            "Epoch 172/200\n",
            "568/568 [==============================] - 1s 2ms/step - loss: 0.0052 - val_loss: 0.0053\n",
            "Epoch 173/200\n",
            "568/568 [==============================] - 1s 2ms/step - loss: 0.0051 - val_loss: 0.0056\n",
            "Epoch 174/200\n",
            "568/568 [==============================] - 1s 2ms/step - loss: 0.0051 - val_loss: 0.0052\n",
            "Epoch 175/200\n",
            "568/568 [==============================] - 1s 2ms/step - loss: 0.0051 - val_loss: 0.0062\n",
            "Epoch 176/200\n",
            "568/568 [==============================] - 1s 2ms/step - loss: 0.0051 - val_loss: 0.0054\n",
            "Epoch 177/200\n",
            "568/568 [==============================] - 1s 3ms/step - loss: 0.0052 - val_loss: 0.0057\n",
            "Epoch 178/200\n",
            "568/568 [==============================] - 1s 2ms/step - loss: 0.0051 - val_loss: 0.0055\n",
            "Epoch 179/200\n",
            "568/568 [==============================] - 1s 2ms/step - loss: 0.0051 - val_loss: 0.0051\n",
            "Epoch 180/200\n",
            "568/568 [==============================] - 1s 3ms/step - loss: 0.0052 - val_loss: 0.0054\n",
            "Epoch 181/200\n",
            "568/568 [==============================] - 1s 2ms/step - loss: 0.0051 - val_loss: 0.0052\n",
            "Epoch 182/200\n",
            "568/568 [==============================] - 1s 2ms/step - loss: 0.0050 - val_loss: 0.0054\n",
            "Epoch 183/200\n",
            "568/568 [==============================] - 1s 2ms/step - loss: 0.0051 - val_loss: 0.0051\n",
            "Epoch 184/200\n",
            "568/568 [==============================] - 1s 2ms/step - loss: 0.0051 - val_loss: 0.0055\n",
            "Epoch 185/200\n",
            "568/568 [==============================] - 1s 2ms/step - loss: 0.0050 - val_loss: 0.0055\n",
            "Epoch 186/200\n",
            "568/568 [==============================] - 1s 2ms/step - loss: 0.0050 - val_loss: 0.0054\n",
            "Epoch 187/200\n",
            "568/568 [==============================] - 1s 2ms/step - loss: 0.0050 - val_loss: 0.0054\n",
            "Epoch 188/200\n",
            "568/568 [==============================] - 1s 2ms/step - loss: 0.0050 - val_loss: 0.0054\n",
            "Epoch 189/200\n",
            "568/568 [==============================] - 1s 2ms/step - loss: 0.0049 - val_loss: 0.0057\n",
            "Epoch 190/200\n",
            "568/568 [==============================] - 1s 2ms/step - loss: 0.0050 - val_loss: 0.0061\n",
            "Epoch 191/200\n",
            "568/568 [==============================] - 1s 2ms/step - loss: 0.0050 - val_loss: 0.0051\n",
            "Epoch 192/200\n",
            "568/568 [==============================] - 1s 2ms/step - loss: 0.0050 - val_loss: 0.0052\n",
            "Epoch 193/200\n",
            "568/568 [==============================] - 1s 2ms/step - loss: 0.0050 - val_loss: 0.0052\n",
            "Epoch 194/200\n",
            "568/568 [==============================] - 1s 2ms/step - loss: 0.0050 - val_loss: 0.0053\n",
            "Epoch 195/200\n",
            "568/568 [==============================] - 1s 2ms/step - loss: 0.0049 - val_loss: 0.0053\n",
            "Epoch 196/200\n",
            "568/568 [==============================] - 1s 2ms/step - loss: 0.0051 - val_loss: 0.0051\n",
            "Epoch 197/200\n",
            "568/568 [==============================] - 1s 2ms/step - loss: 0.0049 - val_loss: 0.0052\n",
            "Epoch 198/200\n",
            "568/568 [==============================] - 1s 2ms/step - loss: 0.0049 - val_loss: 0.0052\n",
            "Epoch 199/200\n",
            "568/568 [==============================] - 1s 2ms/step - loss: 0.0049 - val_loss: 0.0054\n",
            "Epoch 200/200\n",
            "568/568 [==============================] - 1s 3ms/step - loss: 0.0049 - val_loss: 0.0057\n"
          ],
          "name": "stdout"
        }
      ]
    },
    {
      "cell_type": "code",
      "metadata": {
        "id": "DWEua9K3y7k3"
      },
      "source": [
        "import matplotlib.pyplot as plt"
      ],
      "execution_count": null,
      "outputs": []
    },
    {
      "cell_type": "code",
      "metadata": {
        "id": "x-eTzjxWvVDt",
        "colab": {
          "base_uri": "https://localhost:8080/",
          "height": 301
        },
        "outputId": "ca82be0c-9b94-4998-f1f9-1c3ad2e0aaaf"
      },
      "source": [
        "# summarize history for accuracy\n",
        "plt.plot(history.history['loss'])\n",
        "plt.plot(history.history['val_loss'])\n",
        "plt.title('loss function')\n",
        "plt.ylabel('mse')\n",
        "plt.xlabel('epoch')\n",
        "plt.legend(['train', 'val'], loc='upper left')\n",
        "plt.show()"
      ],
      "execution_count": null,
      "outputs": [
        {
          "output_type": "display_data",
          "data": {
            "image/png": "[encoded data removed]",
            "text/plain": [
              "<Figure size 432x288 with 1 Axes>"
            ]
          },
          "metadata": {
            "tags": [],
            "needs_background": "light"
          }
        }
      ]
    },
    {
      "cell_type": "code",
      "metadata": {
        "id": "A5KjpnvmvaAW",
        "colab": {
          "base_uri": "https://localhost:8080/"
        },
        "outputId": "b50b4657-fd61-4b5b-fbd8-caa6d10e0f20"
      },
      "source": [
        "# Evaluate your model accuracy on the test data\n",
        "loss_test = model.evaluate(X_test,y_test)\n",
        "\n",
        "# Print accuracy\n",
        "print('mse_test:', loss_test)"
      ],
      "execution_count": null,
      "outputs": [
        {
          "output_type": "stream",
          "text": [
            "178/178 [==============================] - 0s 1ms/step - loss: 0.0055\n",
            "mse_test: 0.005461586639285088\n"
          ],
          "name": "stdout"
        }
      ]
    },
    {
      "cell_type": "code",
      "metadata": {
        "id": "F4HkUNUzvh5M"
      },
      "source": [
        "model.save('STUDIO-ML_REGRESSION_MODEL_V1.h5')"
      ],
      "execution_count": null,
      "outputs": []
    },
    {
      "cell_type": "code",
      "metadata": {
        "id": "2Pg5d3vZJ7nA"
      },
      "source": [
        "def plot_comparison(x_val, pred, truth, xlab, ylab):\n",
        "  fig, ax1 = plt.subplots()\n",
        "  ax1.plot(x_val, truth, color = \"red\", label = \"truth\",linestyle='None', marker = \"o\", markersize = 5)\n",
        "  ax1.plot(x_val, pred, color = \"blue\", label = \"pred\",linestyle='None', marker = \"o\", markersize = 4, alpha = 0.5)\n",
        "\n",
        "  ax1.set_xlabel(xlab)\n",
        "  ax1.set_ylabel(ylab)\n",
        "  ax1.legend()\n",
        "  fig.set_figheight(10)\n",
        "  fig.set_figwidth(20)\n",
        "  plt.title('Prediction Comparison')\n",
        "  plt.show()"
      ],
      "execution_count": null,
      "outputs": []
    },
    {
      "cell_type": "code",
      "metadata": {
        "colab": {
          "base_uri": "https://localhost:8080/",
          "height": 613
        },
        "id": "P5QcQ4sQJ-0W",
        "outputId": "d4e08951-6377-4748-85bf-d90b7d30d723"
      },
      "source": [
        "y_pred = scalerY.inverse_transform(model.predict(X_test))\n",
        "y_truth = scalerY.inverse_transform(y_test)\n",
        "\n",
        "plt.scatter(y_truth,y_pred)"
      ],
      "execution_count": null,
      "outputs": [
        {
          "output_type": "execute_result",
          "data": {
            "text/plain": [
              "<matplotlib.collections.PathCollection at 0x7f88f0099410>"
            ]
          },
          "metadata": {
            "tags": []
          },
          "execution_count": 22
        },
        {
          "output_type": "display_data",
          "data": {
            "image/png": "[encoded data removed]",
            "text/plain": [
              "<Figure size 720x720 with 1 Axes>"
            ]
          },
          "metadata": {
            "tags": []
          }
        }
      ]
    }
  ]
}